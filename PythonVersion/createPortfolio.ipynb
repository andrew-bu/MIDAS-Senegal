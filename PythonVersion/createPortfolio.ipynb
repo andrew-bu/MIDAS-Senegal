{
 "cells": [
  {
   "cell_type": "code",
   "execution_count": null,
   "id": "42750676",
   "metadata": {},
   "outputs": [],
   "source": [
    "import numpy as np\n",
    "\n",
    "def createPortfolio(layers, constraints, prereqs, pAdd, accesscodes, utilityCosts, agent):\n",
    "    \"\"\"\n",
    "    createPortfolio draws a random portfolio of utility layers that fit the\n",
    "    current time constraint\n",
    "    \"\"\"\n",
    "    #start with all the time in the world\n",
    "    timeRemaining = np.ones((1, constraints.shape[1]-1))  #will be as long as the cycle defined for layers\n",
    "\n",
    "    #initialize an empty portfolio\n",
    "    portfolio = np.zeros((1,constraints.shape[0]), dtype=bool)\n",
    "\n",
    "    #while we still have time left and layers that fit\n",
    "    while(np.sum(timeRemaining) > 0 and layers.size > 0):\n",
    "\n",
    "        #draw one of those layers at random and remove it from the set\n",
    "        randomDraw = np.random.randint(0, layers.size)\n",
    "        nextElement = layers[randomDraw]\n",
    "        layers = np.delete(layers, randomDraw)\n",
    "\n",
    "        if(not portfolio[nextElement]):  #if this one isn't already in the portfolio (e.g., it got drawn in as a prereq in a previous iteration)\n",
    "            #make a temporary portfolio for consideration\n",
    "            tempPortfolio = portfolio | prereqs[nextElement,:]\n",
    "\n",
    "        timeUse = np.sum(constraints[tempPortfolio,1:], axis=0)\n",
    "        timeExceedance = np.sum(timeUse > 1) > 0\n",
    "\n",
    "        #test whether to add it to the portfolio, if it fits\n",
    "        if(not timeExceedance and np.random.rand() < pAdd):\n",
    "            portfolio = tempPortfolio\n",
    "\n",
    "            #remove any that are OBVIOUSLY over the limit, though this won't\n",
    "            #catch any that have other time constraints tied to prereqs\n",
    "            timeRemaining = 1 - timeUse\n",
    "            layers = layers[np.sum(constraints[layers,1:] > timeRemaining, axis=1) == 0]\n",
    "\n",
    "    #Calling selectable function to identify if this portfolio can currently be\n",
    "    #selected by agent\n",
    "    selectable = selectableFlag(portfolio, prereqs, accesscodes, utilityCosts, agent.currentPortfolio, agent.wealth)\n",
    "    \n",
    "    return portfolio, selectable\n"
   ]
  }
 ],
 "metadata": {
  "kernelspec": {
   "display_name": "Python 3 (ipykernel)",
   "language": "python",
   "name": "python3"
  },
  "language_info": {
   "codemirror_mode": {
    "name": "ipython",
    "version": 3
   },
   "file_extension": ".py",
   "mimetype": "text/x-python",
   "name": "python",
   "nbconvert_exporter": "python",
   "pygments_lexer": "ipython3",
   "version": "3.9.12"
  }
 },
 "nbformat": 4,
 "nbformat_minor": 5
}
